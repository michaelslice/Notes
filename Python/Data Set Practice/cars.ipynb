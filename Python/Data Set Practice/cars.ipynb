{
 "cells": [
  {
   "cell_type": "code",
   "execution_count": 2,
   "metadata": {},
   "outputs": [
    {
     "name": "stdout",
     "output_type": "stream",
     "text": [
      "THIS IS A FILE\n"
     ]
    }
   ],
   "source": [
    "file = \"file.txt\"\n",
    "\n",
    "with open(file,\"r\") as file:\n",
    "    content = file.read()\n",
    "    print(content)"
   ]
  },
  {
   "cell_type": "code",
   "execution_count": 3,
   "metadata": {},
   "outputs": [
    {
     "name": "stdout",
     "output_type": "stream",
     "text": [
      "['u']\n",
      "['s']\n",
      "['e']\n",
      "['d']\n",
      "['_']\n",
      "['c']\n",
      "['a']\n",
      "['r']\n",
      "['s']\n",
      "['_']\n",
      "['d']\n",
      "['a']\n",
      "['t']\n",
      "['a']\n",
      "['.']\n",
      "['c']\n",
      "['s']\n",
      "['v']\n"
     ]
    }
   ],
   "source": [
    "import csv\n",
    "\n",
    "file = \"used_cars_data.csv\"\n",
    "\n",
    "with open(file, mode=\"r\") as csv_file:\n",
    "    csv_reader = csv.reader(file)\n",
    "    for row in csv_reader:\n",
    "        print(row)"
   ]
  },
  {
   "cell_type": "code",
   "execution_count": null,
   "metadata": {},
   "outputs": [],
   "source": [
    "import pandas as pd \n",
    "\n",
    "pd.read_csv(\"used_cars_data.csv\")\n",
    "\n",
    "pd."
   ]
  }
 ],
 "metadata": {
  "kernelspec": {
   "display_name": "Python 3",
   "language": "python",
   "name": "python3"
  },
  "language_info": {
   "codemirror_mode": {
    "name": "ipython",
    "version": 3
   },
   "file_extension": ".py",
   "mimetype": "text/x-python",
   "name": "python",
   "nbconvert_exporter": "python",
   "pygments_lexer": "ipython3",
   "version": "3.12.1"
  }
 },
 "nbformat": 4,
 "nbformat_minor": 2
}
